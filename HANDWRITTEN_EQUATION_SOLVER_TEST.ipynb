{
 "cells": [
  {
   "cell_type": "markdown",
   "id": "05687df2",
   "metadata": {},
   "source": [
    "<center><font size=\"5\"><b>HANDWRITTEN EQUATION SOLVER</b></font> </center>"
   ]
  },
  {
   "cell_type": "markdown",
   "id": "cc39d54a",
   "metadata": {},
   "source": [
    "<img src=\"HandwrittenImage.jpg\" width=\"750\" align=\"center\">"
   ]
  },
  {
   "cell_type": "markdown",
   "id": "01420403",
   "metadata": {},
   "source": [
    "## Introduction\n",
    "\n",
    "Handwriting is an integral feature of human communications. In addition to smartphones and tablets, new devices such as interactive panels, digital pens, and smart writing surfaces have become widely adopted in offices and educational institutions, opening up new opportunities for technologies that recognise specific handwritten content such as mathematics and diagrams. \n",
    "\n",
    "The advancements in the field of Computer Vision and Natural Language Processing have fostered robust Human Computer Interaction. Computers are being familiarized with the irregularities of the real world. This facilitates humans to use the computing power to perform otherwise time-consuming tasks and solve complex real-world problems. One such application is in the field of mathematics, that is, to solve handwritten mathematical equations.\n",
    "\n",
    "Solving mathematical equations is an integral part of science right from basic schooling to major research applications. The computing power of today can give a great boost to solving mathematical equations at all levels. Given the level of complexity a mathematical equation can reach, it is simpler and faster to write it by hand than type it on a computer. A machine learning enabled handwritten equation solver can be a very important tool to simplify calculations. "
   ]
  },
  {
   "cell_type": "markdown",
   "id": "61b9efbc",
   "metadata": {},
   "source": [
    "## AIM OF THE PROJECT\n",
    "\n",
    "The aim of this project is to build a deep learning model that can recognise handwritten numbers and mathematical symbols, read it as an equation and evaluate it to give the solution."
   ]
  },
  {
   "cell_type": "markdown",
   "id": "c6ae6c0e",
   "metadata": {},
   "source": [
    "  ## Table of Content\n",
    "\n",
    "1. **[Import Libraries](#lib)**\n",
    "\n",
    "\n",
    "2. **[Data Processing](#prep)**\n",
    "\n",
    "      2.1 - **[Image DataGenerator](#datagen)**   \n",
    "      \n",
    "      2.2 - **[Creating Train Set](#cts)**\n",
    "      \n",
    "      2.2 - **[Creating Validation Set](#cvs)**\n",
    "      \n",
    "      \n",
    "      \n",
    "3. **[Model Building](#mod)**\n",
    "\n",
    "      3.1 - **[MODEL 1](#mod1)**   \n",
    "      \n",
    "      3.2 - **[MODEL 2](#mod2)**\n",
    "      \n",
    "      3.2 - **[MODEL 3](#mod3)**\n",
    "      \n",
    "\n",
    "4. **[Saving the Weights](#savewtg)**\n",
    "\n",
    "\n",
    "5. **[Solving HandWritten Equations](#soleq)**\n",
    "\n",
    "\n",
    "6. **[Creating Label Maps for the Classes](#label)**   \n",
    "\n",
    "           \n",
    "7. **[Model Evaluation](#modeleval)**\n",
    "\n",
    "      7.1 - **[TEST CASE 1](#test1)**\n",
    "      \n",
    "      7.2 - **[TEST CASE 2](#test2)**\n",
    "      \n",
    "      7.3 - **[TEST CASE 3](#test3)**\n",
    "      \n",
    "                     \n",
    "8. **[Conclusions](#conclusion)**\n"
   ]
  },
  {
   "cell_type": "markdown",
   "id": "94c1645e",
   "metadata": {},
   "source": [
    "<a id=\"lib\"></a>\n",
    "## 1. Importing Libraries"
   ]
  },
  {
   "cell_type": "code",
   "execution_count": 2,
   "id": "426b4487",
   "metadata": {},
   "outputs": [],
   "source": [
    "import numpy as np\n",
    "import pandas as pd \n",
    "import cv2\n",
    "import tensorflow as tf\n",
    "import matplotlib.pyplot as plt\n",
    "from imutils.contours import sort_contours\n",
    "import imutils\n",
    "from tensorflow.keras import optimizers\n",
    "from tensorflow.keras.layers import Input, Dense\n",
    "from tensorflow.keras.models import Sequential\n",
    "from tensorflow.keras.layers import Conv2D\n",
    "from tensorflow.keras.layers import MaxPooling2D\n",
    "from tensorflow.keras.layers import Dense\n",
    "from tensorflow.keras.layers import Flatten\n",
    "from tensorflow.keras.layers import Dropout,BatchNormalization\n",
    "from tensorflow.keras.preprocessing.image import ImageDataGenerator\n",
    "import os\n",
    "import warnings\n",
    "warnings.filterwarnings('ignore')\n",
    "import random\n",
    "random.seed(123)"
   ]
  },
  {
   "cell_type": "markdown",
   "id": "4184058d",
   "metadata": {},
   "source": [
    "<a id=\"prep\"></a>\n",
    "# 2. Data Processing"
   ]
  },
  {
   "cell_type": "markdown",
   "id": "869410e0",
   "metadata": {},
   "source": [
    "<a id=\"datagen\"></a>\n",
    "### 2.1 ImageDataGenerator"
   ]
  },
  {
   "cell_type": "code",
   "execution_count": 3,
   "id": "d19fec1b",
   "metadata": {},
   "outputs": [],
   "source": [
    "train_datagen = ImageDataGenerator(\n",
    "    rescale = 1./255,#If None or 0, no rescaling is applied.\n",
    "    shear_range = 0.2,  #Float. Shear Intensity (Shear angle in counter-clockwise direction in degrees)\n",
    "    zoom_range = 0.2,  # Float or [lower, upper]. Range for random zoom. \n",
    "    validation_split = 0.30 \n",
    ")"
   ]
  },
  {
   "cell_type": "code",
   "execution_count": 4,
   "id": "b8c33999",
   "metadata": {},
   "outputs": [],
   "source": [
    "#path of the data\n",
    "data_path='C:\\\\Users\\\\suvar\\\\Downloads\\\\DL_Team6 - Mod\\\\HANDWRITTEN-NUMERICAL-SOLVER-6Classes\\\\6classes'"
   ]
  },
  {
   "cell_type": "markdown",
   "id": "58e4b7a4",
   "metadata": {},
   "source": [
    "<a id=\"cvt\"></a>\n",
    "### 2.2 Creating Train Set"
   ]
  },
  {
   "cell_type": "code",
   "execution_count": 5,
   "id": "a26a0fa8",
   "metadata": {},
   "outputs": [
    {
     "name": "stdout",
     "output_type": "stream",
     "text": [
      "Found 210 images belonging to 6 classes.\n"
     ]
    }
   ],
   "source": [
    "train_set = train_datagen.flow_from_directory(\n",
    "    data_path, #path of the data\n",
    "    target_size = (28, 28), #The dimensions to which all images found will be resized.\n",
    "    color_mode = 'grayscale',#Whether the images will be converted to have 1 or 3 color channels.\n",
    "    batch_size = 10,#size of the batches of data (default: 32).\n",
    "    class_mode = 'categorical',#- \"categorical\": 2D numpy array of one-hot encoded labels. Supports multi-label output. -\n",
    "    shuffle = True,#whether to shuffle the data (default: True)\n",
    "    subset='training',#Subset of data (\"training\" or \"validation\")\n",
    "    seed = 123\n",
    ")"
   ]
  },
  {
   "cell_type": "markdown",
   "id": "f015167c",
   "metadata": {},
   "source": [
    "#### Interpretation : \n",
    "\n",
    "The Train Set consists of 210 Images out of 300 Images"
   ]
  },
  {
   "cell_type": "markdown",
   "id": "a9fd46fd",
   "metadata": {},
   "source": [
    "<a id=\"cvs\"></a>\n",
    "### 2.3 Creating Validation Set"
   ]
  },
  {
   "cell_type": "code",
   "execution_count": 6,
   "id": "43e13bd1",
   "metadata": {},
   "outputs": [
    {
     "name": "stdout",
     "output_type": "stream",
     "text": [
      "Found 90 images belonging to 6 classes.\n"
     ]
    }
   ],
   "source": [
    "valid_set = train_datagen.flow_from_directory(\n",
    "    data_path, #path of the data\n",
    "    target_size = (28, 28), #The dimensions to which all images found will be resized.\n",
    "    color_mode = 'grayscale',#Whether the images will be converted to have 1 or 3 color channels.\n",
    "    batch_size = 10,#size of the batches of data (default: 32).\n",
    "    class_mode = 'categorical',##- \"categorical\": 2D numpy array of one-hot encoded labels. Supports multi-label output. -\n",
    "    shuffle = True,#whether to shuffle the data (default: True)\n",
    "    subset='validation',#Subset of data (\"training\" or \"validation\")\n",
    "    seed = 123\n",
    ")"
   ]
  },
  {
   "cell_type": "markdown",
   "id": "c0287f39",
   "metadata": {},
   "source": [
    "#### Interpretation : \n",
    "\n",
    "The Validation Set consists of 90 Images out of 300 Images"
   ]
  },
  {
   "cell_type": "markdown",
   "id": "f2585f07",
   "metadata": {},
   "source": [
    "<a id=\"mod\"></a>\n",
    "# 3. Model Building"
   ]
  },
  {
   "cell_type": "markdown",
   "id": "f17fb726",
   "metadata": {},
   "source": [
    "<a id=\"mod1\"></a>\n",
    "### 3.1 MODEL 1"
   ]
  },
  {
   "cell_type": "code",
   "execution_count": 7,
   "id": "e67d759b",
   "metadata": {},
   "outputs": [],
   "source": [
    "model1 = Sequential()\n",
    "model1.add(Conv2D(30, (5, 5), input_shape=(28, 28, 1), activation='relu'))\n",
    "model1.add(MaxPooling2D(pool_size=(2, 2)))\n",
    "model1.add(Conv2D(10, (3, 3), activation='relu'))\n",
    "model1.add(MaxPooling2D(pool_size=(2, 2)))\n",
    "model1.add(Conv2D(5, (3, 3), activation='relu'))\n",
    "model1.add(MaxPooling2D(pool_size=(2, 2)))\n",
    "model1.add(Dropout(0.1))\n",
    "model1.add(Flatten())\n",
    "model1.add(Dense(128, activation='relu'))\n",
    "model1.add(Dense(64, activation='relu'))\n",
    "model1.add(Dense(6, activation='softmax'))"
   ]
  },
  {
   "cell_type": "code",
   "execution_count": 8,
   "id": "b006e920",
   "metadata": {},
   "outputs": [],
   "source": [
    "# Compile model\n",
    "model1.compile(loss='categorical_crossentropy', optimizer='adam', metrics=['accuracy'])"
   ]
  },
  {
   "cell_type": "code",
   "execution_count": 9,
   "id": "ea1130e2",
   "metadata": {},
   "outputs": [
    {
     "name": "stdout",
     "output_type": "stream",
     "text": [
      "WARNING:tensorflow:sample_weight modes were coerced from\n",
      "  ...\n",
      "    to  \n",
      "  ['...']\n",
      "WARNING:tensorflow:sample_weight modes were coerced from\n",
      "  ...\n",
      "    to  \n",
      "  ['...']\n",
      "Train for 21 steps, validate for 9 steps\n",
      "Epoch 1/60\n",
      "21/21 [==============================] - 4s 195ms/step - loss: 1.7928 - accuracy: 0.1619 - val_loss: 1.7918 - val_accuracy: 0.1667\n",
      "Epoch 2/60\n",
      "21/21 [==============================] - 0s 14ms/step - loss: 1.7922 - accuracy: 0.1667 - val_loss: 1.7918 - val_accuracy: 0.1667\n",
      "Epoch 3/60\n",
      "21/21 [==============================] - 0s 13ms/step - loss: 1.7920 - accuracy: 0.1381 - val_loss: 1.7918 - val_accuracy: 0.1667\n",
      "Epoch 4/60\n",
      "21/21 [==============================] - 0s 13ms/step - loss: 1.7924 - accuracy: 0.1429 - val_loss: 1.7918 - val_accuracy: 0.1667\n",
      "Epoch 5/60\n",
      "21/21 [==============================] - 0s 14ms/step - loss: 1.7921 - accuracy: 0.1571 - val_loss: 1.7918 - val_accuracy: 0.1667\n",
      "Epoch 6/60\n",
      "21/21 [==============================] - 0s 14ms/step - loss: 1.7921 - accuracy: 0.1667 - val_loss: 1.7918 - val_accuracy: 0.1667\n",
      "Epoch 7/60\n",
      "21/21 [==============================] - 0s 13ms/step - loss: 1.7921 - accuracy: 0.1381 - val_loss: 1.7918 - val_accuracy: 0.1667\n",
      "Epoch 8/60\n",
      "21/21 [==============================] - 0s 14ms/step - loss: 1.7920 - accuracy: 0.1381 - val_loss: 1.7918 - val_accuracy: 0.1667\n",
      "Epoch 9/60\n",
      "21/21 [==============================] - 0s 18ms/step - loss: 1.7919 - accuracy: 0.1571 - val_loss: 1.7918 - val_accuracy: 0.1667\n",
      "Epoch 10/60\n",
      "21/21 [==============================] - 0s 14ms/step - loss: 1.7920 - accuracy: 0.1476 - val_loss: 1.7918 - val_accuracy: 0.1667\n",
      "Epoch 11/60\n",
      "21/21 [==============================] - 0s 16ms/step - loss: 1.7920 - accuracy: 0.1048 - val_loss: 1.7918 - val_accuracy: 0.1667\n",
      "Epoch 12/60\n",
      "21/21 [==============================] - 0s 19ms/step - loss: 1.7920 - accuracy: 0.1524 - val_loss: 1.7918 - val_accuracy: 0.1667\n",
      "Epoch 13/60\n",
      "21/21 [==============================] - 0s 17ms/step - loss: 1.7920 - accuracy: 0.1381 - val_loss: 1.7918 - val_accuracy: 0.1667\n",
      "Epoch 14/60\n",
      "21/21 [==============================] - 0s 19ms/step - loss: 1.7920 - accuracy: 0.1381 - val_loss: 1.7918 - val_accuracy: 0.1667\n",
      "Epoch 15/60\n",
      "21/21 [==============================] - 0s 16ms/step - loss: 1.7920 - accuracy: 0.1381 - val_loss: 1.7918 - val_accuracy: 0.1667\n",
      "Epoch 16/60\n",
      "21/21 [==============================] - 0s 15ms/step - loss: 1.7922 - accuracy: 0.1333 - val_loss: 1.7918 - val_accuracy: 0.1667\n",
      "Epoch 17/60\n",
      "21/21 [==============================] - 0s 14ms/step - loss: 1.7919 - accuracy: 0.1524 - val_loss: 1.7918 - val_accuracy: 0.1667\n",
      "Epoch 18/60\n",
      "21/21 [==============================] - 0s 18ms/step - loss: 1.7920 - accuracy: 0.1524 - val_loss: 1.7918 - val_accuracy: 0.1667\n",
      "Epoch 19/60\n",
      "21/21 [==============================] - 0s 20ms/step - loss: 1.7920 - accuracy: 0.1476 - val_loss: 1.7918 - val_accuracy: 0.1667\n",
      "Epoch 20/60\n",
      "21/21 [==============================] - 0s 15ms/step - loss: 1.7920 - accuracy: 0.1667 - val_loss: 1.7918 - val_accuracy: 0.1667\n",
      "Epoch 21/60\n",
      "21/21 [==============================] - 0s 15ms/step - loss: 1.7919 - accuracy: 0.1524 - val_loss: 1.7918 - val_accuracy: 0.1667\n",
      "Epoch 22/60\n",
      "21/21 [==============================] - 0s 15ms/step - loss: 1.7920 - accuracy: 0.1476 - val_loss: 1.7918 - val_accuracy: 0.1667\n",
      "Epoch 23/60\n",
      "21/21 [==============================] - 0s 14ms/step - loss: 1.7920 - accuracy: 0.1476 - val_loss: 1.7918 - val_accuracy: 0.1667\n",
      "Epoch 24/60\n",
      "21/21 [==============================] - 0s 17ms/step - loss: 1.7920 - accuracy: 0.1476 - val_loss: 1.7918 - val_accuracy: 0.1667\n",
      "Epoch 25/60\n",
      "21/21 [==============================] - 0s 15ms/step - loss: 1.7924 - accuracy: 0.1667 - val_loss: 1.7918 - val_accuracy: 0.1667\n",
      "Epoch 26/60\n",
      "21/21 [==============================] - 0s 21ms/step - loss: 1.7921 - accuracy: 0.1524 - val_loss: 1.7918 - val_accuracy: 0.1667\n",
      "Epoch 27/60\n",
      "21/21 [==============================] - 0s 15ms/step - loss: 1.7921 - accuracy: 0.1381 - val_loss: 1.7918 - val_accuracy: 0.1667\n",
      "Epoch 28/60\n",
      "21/21 [==============================] - 0s 14ms/step - loss: 1.7922 - accuracy: 0.1667 - val_loss: 1.7918 - val_accuracy: 0.1667\n",
      "Epoch 29/60\n",
      "21/21 [==============================] - 0s 14ms/step - loss: 1.7919 - accuracy: 0.1476 - val_loss: 1.7918 - val_accuracy: 0.1667\n",
      "Epoch 30/60\n",
      "21/21 [==============================] - 0s 14ms/step - loss: 1.7920 - accuracy: 0.1476 - val_loss: 1.7918 - val_accuracy: 0.1667\n",
      "Epoch 31/60\n",
      "21/21 [==============================] - 0s 14ms/step - loss: 1.7921 - accuracy: 0.1667 - val_loss: 1.7918 - val_accuracy: 0.1667\n",
      "Epoch 32/60\n",
      "21/21 [==============================] - 0s 16ms/step - loss: 1.7920 - accuracy: 0.1667 - val_loss: 1.7918 - val_accuracy: 0.1667\n",
      "Epoch 33/60\n",
      "21/21 [==============================] - 0s 17ms/step - loss: 1.7919 - accuracy: 0.1476 - val_loss: 1.7918 - val_accuracy: 0.1667\n",
      "Epoch 34/60\n",
      "21/21 [==============================] - 0s 15ms/step - loss: 1.7920 - accuracy: 0.1429 - val_loss: 1.7918 - val_accuracy: 0.1667\n",
      "Epoch 35/60\n",
      "21/21 [==============================] - 0s 14ms/step - loss: 1.7920 - accuracy: 0.1429 - val_loss: 1.7918 - val_accuracy: 0.1667\n",
      "Epoch 36/60\n",
      "21/21 [==============================] - 0s 18ms/step - loss: 1.7921 - accuracy: 0.1667 - val_loss: 1.7918 - val_accuracy: 0.1667\n",
      "Epoch 37/60\n",
      "21/21 [==============================] - 0s 16ms/step - loss: 1.7919 - accuracy: 0.1667 - val_loss: 1.7918 - val_accuracy: 0.1667\n",
      "Epoch 38/60\n",
      "21/21 [==============================] - 0s 16ms/step - loss: 1.7919 - accuracy: 0.1667 - val_loss: 1.7918 - val_accuracy: 0.1667\n",
      "Epoch 39/60\n",
      "21/21 [==============================] - 0s 18ms/step - loss: 1.7921 - accuracy: 0.1286 - val_loss: 1.7918 - val_accuracy: 0.1667\n",
      "Epoch 40/60\n",
      "21/21 [==============================] - 0s 18ms/step - loss: 1.7920 - accuracy: 0.1381 - val_loss: 1.7918 - val_accuracy: 0.1667\n",
      "Epoch 41/60\n",
      "21/21 [==============================] - 0s 17ms/step - loss: 1.7919 - accuracy: 0.1429 - val_loss: 1.7918 - val_accuracy: 0.1667\n",
      "Epoch 42/60\n",
      "21/21 [==============================] - 0s 17ms/step - loss: 1.7919 - accuracy: 0.1333 - val_loss: 1.7918 - val_accuracy: 0.1667\n",
      "Epoch 43/60\n",
      "21/21 [==============================] - 0s 17ms/step - loss: 1.7920 - accuracy: 0.1476 - val_loss: 1.7918 - val_accuracy: 0.1667\n",
      "Epoch 44/60\n",
      "21/21 [==============================] - 0s 16ms/step - loss: 1.7920 - accuracy: 0.1190 - val_loss: 1.7918 - val_accuracy: 0.1667\n",
      "Epoch 45/60\n",
      "21/21 [==============================] - 0s 15ms/step - loss: 1.7919 - accuracy: 0.1286 - val_loss: 1.7918 - val_accuracy: 0.1667\n",
      "Epoch 46/60\n",
      "21/21 [==============================] - 0s 14ms/step - loss: 1.7920 - accuracy: 0.1190 - val_loss: 1.7918 - val_accuracy: 0.1667\n",
      "Epoch 47/60\n",
      "21/21 [==============================] - 0s 14ms/step - loss: 1.7920 - accuracy: 0.1667 - val_loss: 1.7918 - val_accuracy: 0.1667\n",
      "Epoch 48/60\n",
      "21/21 [==============================] - 0s 13ms/step - loss: 1.7921 - accuracy: 0.1000 - val_loss: 1.7918 - val_accuracy: 0.1667\n",
      "Epoch 49/60\n",
      "21/21 [==============================] - 0s 14ms/step - loss: 1.7920 - accuracy: 0.1143 - val_loss: 1.7918 - val_accuracy: 0.1667\n",
      "Epoch 50/60\n",
      "21/21 [==============================] - 0s 18ms/step - loss: 1.7919 - accuracy: 0.1381 - val_loss: 1.7918 - val_accuracy: 0.1667\n",
      "Epoch 51/60\n",
      "21/21 [==============================] - 0s 14ms/step - loss: 1.7920 - accuracy: 0.1429 - val_loss: 1.7918 - val_accuracy: 0.1667\n",
      "Epoch 52/60\n",
      "21/21 [==============================] - 0s 14ms/step - loss: 1.7920 - accuracy: 0.1333 - val_loss: 1.7918 - val_accuracy: 0.1667\n",
      "Epoch 53/60\n",
      "21/21 [==============================] - 0s 14ms/step - loss: 1.7919 - accuracy: 0.1429 - val_loss: 1.7918 - val_accuracy: 0.1667\n",
      "Epoch 54/60\n",
      "21/21 [==============================] - 0s 13ms/step - loss: 1.7919 - accuracy: 0.1286 - val_loss: 1.7918 - val_accuracy: 0.1667\n",
      "Epoch 55/60\n",
      "21/21 [==============================] - 0s 14ms/step - loss: 1.7920 - accuracy: 0.1238 - val_loss: 1.7918 - val_accuracy: 0.1667\n",
      "Epoch 56/60\n",
      "21/21 [==============================] - 0s 13ms/step - loss: 1.7919 - accuracy: 0.1429 - val_loss: 1.7918 - val_accuracy: 0.1667\n",
      "Epoch 57/60\n"
     ]
    },
    {
     "name": "stdout",
     "output_type": "stream",
     "text": [
      "21/21 [==============================] - 0s 18ms/step - loss: 1.7923 - accuracy: 0.1381 - val_loss: 1.7918 - val_accuracy: 0.1667\n",
      "Epoch 58/60\n",
      "21/21 [==============================] - 0s 16ms/step - loss: 1.7920 - accuracy: 0.1095 - val_loss: 1.7918 - val_accuracy: 0.1667\n",
      "Epoch 59/60\n",
      "21/21 [==============================] - 0s 13ms/step - loss: 1.7921 - accuracy: 0.1333 - val_loss: 1.7918 - val_accuracy: 0.1667\n",
      "Epoch 60/60\n",
      "21/21 [==============================] - 0s 13ms/step - loss: 1.7919 - accuracy: 0.1667 - val_loss: 1.7918 - val_accuracy: 0.1667\n"
     ]
    }
   ],
   "source": [
    "M1=model1.fit(train_set,validation_data=valid_set, epochs=60,verbose=1)"
   ]
  },
  {
   "cell_type": "code",
   "execution_count": 12,
   "id": "001af941",
   "metadata": {},
   "outputs": [],
   "source": [
    "def plot_performance(model_history):\n",
    "    plt.figure(figsize=(15, 5))\n",
    "    plt.subplot(1,2,1)\n",
    "    plt.grid(True)\n",
    "    plt.plot(model_history.history['accuracy'], 'b', label='train_acc')\n",
    "    plt.plot(model_history.history['val_accuracy'], 'y', label='val_acc')\n",
    "    plt.legend()\n",
    "    plt.title(\"Train-Validation accuracy vs Epochs\")\n",
    "    plt.subplot(1,2,2)\n",
    "    plt.grid(True)\n",
    "    plt.plot(model_history.history['loss'], 'b--', label='train_loss')\n",
    "    plt.plot(model_history.history['val_loss'], 'y--', label='val_loss')\n",
    "    plt.title(\"Train-Validation Loss vs Epochs\")\n",
    "    plt.legend()\n",
    "    plt.show()"
   ]
  },
  {
   "cell_type": "code",
   "execution_count": 13,
   "id": "fa409549",
   "metadata": {},
   "outputs": [
    {
     "data": {
      "image/png": "[encoded data removed]",
      "text/plain": [
       "<Figure size 1080x360 with 2 Axes>"
      ]
     },
     "metadata": {
      "needs_background": "light"
     },
     "output_type": "display_data"
    }
   ],
   "source": [
    "plot_performance(M1)"
   ]
  },
  {
   "cell_type": "markdown",
   "id": "9c0a9f98",
   "metadata": {},
   "source": [
    "#### Interpretation :\n",
    "\n",
    "It is evident from the graph that Train and Validation Accuracy go hand in hand overcoming Overfitting. But the loss clearly states that it is High. Hence we need to improve the Model further."
   ]
  },
  {
   "cell_type": "markdown",
   "id": "5be48ed1",
   "metadata": {},
   "source": [
    "<a id=\"mod2\"></a>\n",
    "### 3.2 MODEL 2"
   ]
  },
  {
   "cell_type": "code",
   "execution_count": 14,
   "id": "da243cc9",
   "metadata": {},
   "outputs": [],
   "source": [
    "model2 = Sequential()\n",
    "model2.add(Conv2D(30, (3, 3), input_shape=(28, 28, 1), activation='relu'))\n",
    "model2.add(MaxPooling2D(pool_size=(2, 2)))\n",
    "model2.add(Conv2D(20, (3, 3), activation='relu'))\n",
    "model2.add(MaxPooling2D(pool_size=(2, 2)))\n",
    "model2.add(Conv2D(15, (3, 3), activation='relu'))\n",
    "model2.add(MaxPooling2D(pool_size=(2, 2)))\n",
    "model2.add(Dropout(0.1))\n",
    "model2.add(Flatten())\n",
    "#model2.add(Dense(128, activation='relu'))\n",
    "model2.add(Dense(64, activation='relu'))\n",
    "model2.add(Dense(6, activation='softmax'))"
   ]
  },
  {
   "cell_type": "code",
   "execution_count": 15,
   "id": "f2a20abc",
   "metadata": {},
   "outputs": [],
   "source": [
    "# Compile model\n",
    "model2.compile(loss='categorical_crossentropy', optimizer='adam', metrics=['accuracy'])"
   ]
  },
  {
   "cell_type": "code",
   "execution_count": 16,
   "id": "0eddc760",
   "metadata": {},
   "outputs": [
    {
     "name": "stdout",
     "output_type": "stream",
     "text": [
      "Epoch 1/60\n",
      "21/21 [==============================] - 7s 108ms/step - loss: 1.7923 - accuracy: 0.1638 - val_loss: 1.7873 - val_accuracy: 0.1778\n",
      "Epoch 2/60\n",
      "21/21 [==============================] - 1s 39ms/step - loss: 1.7878 - accuracy: 0.1861 - val_loss: 1.7786 - val_accuracy: 0.2222\n",
      "Epoch 3/60\n",
      "21/21 [==============================] - 1s 40ms/step - loss: 1.7745 - accuracy: 0.3124 - val_loss: 1.7487 - val_accuracy: 0.3222\n",
      "Epoch 4/60\n",
      "21/21 [==============================] - 1s 38ms/step - loss: 1.7495 - accuracy: 0.2398 - val_loss: 1.6861 - val_accuracy: 0.3000\n",
      "Epoch 5/60\n",
      "21/21 [==============================] - 1s 40ms/step - loss: 1.6711 - accuracy: 0.2905 - val_loss: 1.5331 - val_accuracy: 0.3778\n",
      "Epoch 6/60\n",
      "21/21 [==============================] - 1s 40ms/step - loss: 1.5009 - accuracy: 0.3944 - val_loss: 1.3799 - val_accuracy: 0.4889\n",
      "Epoch 7/60\n",
      "21/21 [==============================] - 1s 40ms/step - loss: 1.4510 - accuracy: 0.3906 - val_loss: 1.2949 - val_accuracy: 0.5222\n",
      "Epoch 8/60\n",
      "21/21 [==============================] - 1s 45ms/step - loss: 1.2867 - accuracy: 0.4725 - val_loss: 1.0403 - val_accuracy: 0.7889\n",
      "Epoch 9/60\n",
      "21/21 [==============================] - 1s 42ms/step - loss: 1.2874 - accuracy: 0.4884 - val_loss: 0.9069 - val_accuracy: 0.8000\n",
      "Epoch 10/60\n",
      "21/21 [==============================] - 1s 41ms/step - loss: 0.9324 - accuracy: 0.6655 - val_loss: 0.7409 - val_accuracy: 0.8333\n",
      "Epoch 11/60\n",
      "21/21 [==============================] - 1s 42ms/step - loss: 0.8101 - accuracy: 0.7121 - val_loss: 0.5575 - val_accuracy: 0.8333\n",
      "Epoch 12/60\n",
      "21/21 [==============================] - 1s 42ms/step - loss: 0.7217 - accuracy: 0.7209 - val_loss: 0.4816 - val_accuracy: 0.8778\n",
      "Epoch 13/60\n",
      "21/21 [==============================] - 1s 41ms/step - loss: 0.5548 - accuracy: 0.8401 - val_loss: 0.3815 - val_accuracy: 0.9000\n",
      "Epoch 14/60\n",
      "21/21 [==============================] - 1s 43ms/step - loss: 0.5804 - accuracy: 0.8252 - val_loss: 0.3975 - val_accuracy: 0.8889\n",
      "Epoch 15/60\n",
      "21/21 [==============================] - 1s 43ms/step - loss: 0.5450 - accuracy: 0.8177 - val_loss: 0.3398 - val_accuracy: 0.9222\n",
      "Epoch 16/60\n",
      "21/21 [==============================] - 1s 42ms/step - loss: 0.4926 - accuracy: 0.8657 - val_loss: 0.3501 - val_accuracy: 0.8889\n",
      "Epoch 17/60\n",
      "21/21 [==============================] - 1s 43ms/step - loss: 0.3375 - accuracy: 0.8844 - val_loss: 0.2549 - val_accuracy: 0.9333\n",
      "Epoch 18/60\n",
      "21/21 [==============================] - 1s 40ms/step - loss: 0.3441 - accuracy: 0.8870 - val_loss: 0.2505 - val_accuracy: 0.9333\n",
      "Epoch 19/60\n",
      "21/21 [==============================] - 1s 41ms/step - loss: 0.3629 - accuracy: 0.8643 - val_loss: 0.2629 - val_accuracy: 0.9111\n",
      "Epoch 20/60\n",
      "21/21 [==============================] - 1s 42ms/step - loss: 0.3215 - accuracy: 0.9133 - val_loss: 0.2354 - val_accuracy: 0.9333\n",
      "Epoch 21/60\n",
      "21/21 [==============================] - 1s 41ms/step - loss: 0.3374 - accuracy: 0.8947 - val_loss: 0.3047 - val_accuracy: 0.8667\n",
      "Epoch 22/60\n",
      "21/21 [==============================] - 1s 41ms/step - loss: 0.3335 - accuracy: 0.8777 - val_loss: 0.2627 - val_accuracy: 0.9444\n",
      "Epoch 23/60\n",
      "21/21 [==============================] - 1s 42ms/step - loss: 0.3849 - accuracy: 0.8812 - val_loss: 0.2547 - val_accuracy: 0.9222\n",
      "Epoch 24/60\n",
      "21/21 [==============================] - 1s 40ms/step - loss: 0.3870 - accuracy: 0.8806 - val_loss: 0.1952 - val_accuracy: 0.9556\n",
      "Epoch 25/60\n",
      "21/21 [==============================] - 1s 46ms/step - loss: 0.2602 - accuracy: 0.9059 - val_loss: 0.2024 - val_accuracy: 0.9111\n",
      "Epoch 26/60\n",
      "21/21 [==============================] - 1s 42ms/step - loss: 0.2706 - accuracy: 0.9261 - val_loss: 0.1341 - val_accuracy: 0.9667\n",
      "Epoch 27/60\n",
      "21/21 [==============================] - 1s 41ms/step - loss: 0.2345 - accuracy: 0.9182 - val_loss: 0.1719 - val_accuracy: 0.9333\n",
      "Epoch 28/60\n",
      "21/21 [==============================] - 1s 38ms/step - loss: 0.2104 - accuracy: 0.9373 - val_loss: 0.1528 - val_accuracy: 0.9556\n",
      "Epoch 29/60\n",
      "21/21 [==============================] - 1s 40ms/step - loss: 0.1724 - accuracy: 0.9638 - val_loss: 0.1545 - val_accuracy: 0.9667\n",
      "Epoch 30/60\n",
      "21/21 [==============================] - 1s 43ms/step - loss: 0.1765 - accuracy: 0.9215 - val_loss: 0.1740 - val_accuracy: 0.9222\n",
      "Epoch 31/60\n",
      "21/21 [==============================] - 1s 50ms/step - loss: 0.1738 - accuracy: 0.9333 - val_loss: 0.1480 - val_accuracy: 0.9556\n",
      "Epoch 32/60\n",
      "21/21 [==============================] - 1s 41ms/step - loss: 0.1726 - accuracy: 0.9421 - val_loss: 0.1817 - val_accuracy: 0.9333\n",
      "Epoch 33/60\n",
      "21/21 [==============================] - 1s 39ms/step - loss: 0.1914 - accuracy: 0.9328 - val_loss: 0.1497 - val_accuracy: 0.9556\n",
      "Epoch 34/60\n",
      "21/21 [==============================] - 1s 40ms/step - loss: 0.1996 - accuracy: 0.9501 - val_loss: 0.2216 - val_accuracy: 0.9333\n",
      "Epoch 35/60\n",
      "21/21 [==============================] - 1s 41ms/step - loss: 0.1339 - accuracy: 0.9611 - val_loss: 0.0989 - val_accuracy: 0.9778\n",
      "Epoch 36/60\n",
      "21/21 [==============================] - 1s 41ms/step - loss: 0.1674 - accuracy: 0.9389 - val_loss: 0.2086 - val_accuracy: 0.9000\n",
      "Epoch 37/60\n",
      "21/21 [==============================] - 1s 43ms/step - loss: 0.1250 - accuracy: 0.9681 - val_loss: 0.2478 - val_accuracy: 0.9222\n",
      "Epoch 38/60\n",
      "21/21 [==============================] - 1s 42ms/step - loss: 0.1987 - accuracy: 0.9378 - val_loss: 0.1006 - val_accuracy: 0.9778\n",
      "Epoch 39/60\n",
      "21/21 [==============================] - 1s 41ms/step - loss: 0.1865 - accuracy: 0.9272 - val_loss: 0.2462 - val_accuracy: 0.9444\n",
      "Epoch 40/60\n",
      "21/21 [==============================] - 1s 38ms/step - loss: 0.1276 - accuracy: 0.9713 - val_loss: 0.2345 - val_accuracy: 0.9333\n",
      "Epoch 41/60\n",
      "21/21 [==============================] - 1s 38ms/step - loss: 0.1654 - accuracy: 0.9480 - val_loss: 0.2280 - val_accuracy: 0.9111\n",
      "Epoch 42/60\n",
      "21/21 [==============================] - 1s 41ms/step - loss: 0.2002 - accuracy: 0.9074 - val_loss: 0.1256 - val_accuracy: 0.9444\n",
      "Epoch 43/60\n",
      "21/21 [==============================] - 1s 39ms/step - loss: 0.1143 - accuracy: 0.9681 - val_loss: 0.2467 - val_accuracy: 0.9111\n",
      "Epoch 44/60\n",
      "21/21 [==============================] - 1s 41ms/step - loss: 0.2063 - accuracy: 0.9272 - val_loss: 0.1623 - val_accuracy: 0.9667\n",
      "Epoch 45/60\n",
      "21/21 [==============================] - 1s 50ms/step - loss: 0.1159 - accuracy: 0.9550 - val_loss: 0.2270 - val_accuracy: 0.9222\n",
      "Epoch 46/60\n",
      "21/21 [==============================] - 1s 54ms/step - loss: 0.1522 - accuracy: 0.9313 - val_loss: 0.1542 - val_accuracy: 0.9556\n",
      "Epoch 47/60\n",
      "21/21 [==============================] - 1s 44ms/step - loss: 0.1053 - accuracy: 0.9610 - val_loss: 0.1222 - val_accuracy: 0.9667\n",
      "Epoch 48/60\n",
      "21/21 [==============================] - 1s 43ms/step - loss: 0.0957 - accuracy: 0.9632 - val_loss: 0.1729 - val_accuracy: 0.9444\n",
      "Epoch 49/60\n",
      "21/21 [==============================] - 1s 44ms/step - loss: 0.0980 - accuracy: 0.9561 - val_loss: 0.1187 - val_accuracy: 0.9667\n",
      "Epoch 50/60\n",
      "21/21 [==============================] - 1s 41ms/step - loss: 0.0918 - accuracy: 0.9709 - val_loss: 0.1013 - val_accuracy: 0.9444\n",
      "Epoch 51/60\n",
      "21/21 [==============================] - 1s 43ms/step - loss: 0.0836 - accuracy: 0.9671 - val_loss: 0.1172 - val_accuracy: 0.9556\n",
      "Epoch 52/60\n",
      "21/21 [==============================] - 1s 55ms/step - loss: 0.0866 - accuracy: 0.9845 - val_loss: 0.0893 - val_accuracy: 0.9667\n",
      "Epoch 53/60\n",
      "21/21 [==============================] - 1s 39ms/step - loss: 0.0997 - accuracy: 0.9789 - val_loss: 0.1524 - val_accuracy: 0.9444\n",
      "Epoch 54/60\n",
      "21/21 [==============================] - 1s 41ms/step - loss: 0.0541 - accuracy: 0.9948 - val_loss: 0.1034 - val_accuracy: 0.9556\n",
      "Epoch 55/60\n",
      "21/21 [==============================] - 1s 38ms/step - loss: 0.1263 - accuracy: 0.9587 - val_loss: 0.1274 - val_accuracy: 0.9556\n",
      "Epoch 56/60\n",
      "21/21 [==============================] - 1s 39ms/step - loss: 0.0732 - accuracy: 0.9852 - val_loss: 0.1557 - val_accuracy: 0.9333\n",
      "Epoch 57/60\n",
      "21/21 [==============================] - 1s 44ms/step - loss: 0.1303 - accuracy: 0.9574 - val_loss: 0.1713 - val_accuracy: 0.9444\n",
      "Epoch 58/60\n",
      "21/21 [==============================] - 1s 39ms/step - loss: 0.1081 - accuracy: 0.9535 - val_loss: 0.2533 - val_accuracy: 0.9222\n",
      "Epoch 59/60\n",
      "21/21 [==============================] - 1s 43ms/step - loss: 0.1331 - accuracy: 0.9621 - val_loss: 0.1135 - val_accuracy: 0.9778\n",
      "Epoch 60/60\n",
      "21/21 [==============================] - 1s 37ms/step - loss: 0.1367 - accuracy: 0.9402 - val_loss: 0.0989 - val_accuracy: 0.9778\n"
     ]
    }
   ],
   "source": [
    "M2=model2.fit(train_set,validation_data=valid_set, epochs=60,shuffle=True,verbose=1)"
   ]
  },
  {
   "cell_type": "code",
   "execution_count": 10,
   "id": "2f18afc9",
   "metadata": {},
   "outputs": [
    {
     "ename": "NameError",
     "evalue": "name 'plot_performance' is not defined",
     "output_type": "error",
     "traceback": [
      "\u001b[1;31m---------------------------------------------------------------------------\u001b[0m",
      "\u001b[1;31mNameError\u001b[0m                                 Traceback (most recent call last)",
      "\u001b[1;32m<ipython-input-10-b8d053b89be6>\u001b[0m in \u001b[0;36m<module>\u001b[1;34m\u001b[0m\n\u001b[1;32m----> 1\u001b[1;33m \u001b[0mplot_performance\u001b[0m\u001b[1;33m(\u001b[0m\u001b[0mM2\u001b[0m\u001b[1;33m)\u001b[0m\u001b[1;33m\u001b[0m\u001b[1;33m\u001b[0m\u001b[0m\n\u001b[0m",
      "\u001b[1;31mNameError\u001b[0m: name 'plot_performance' is not defined"
     ]
    }
   ],
   "source": [
    "plot_performance(M2)"
   ]
  },
  {
   "cell_type": "markdown",
   "id": "ab032ad4",
   "metadata": {},
   "source": [
    "#### Interpretation :\n",
    "\n",
    "From the Above graph the train and Validation Accuracy has improved compared to Model 1. \n",
    "\n",
    "We can see that there is an Overfitting .\n",
    "\n",
    "It is important to notice that the Losses have drastically decreased, which indicates a good sign of Model Performance."
   ]
  },
  {
   "cell_type": "markdown",
   "id": "234e9de1",
   "metadata": {},
   "source": [
    "<a id=\"mod3\"></a>\n",
    "### 3.3 MODEL 3"
   ]
  },
  {
   "cell_type": "code",
   "execution_count": 11,
   "id": "b5e540fe",
   "metadata": {},
   "outputs": [],
   "source": [
    "model3 = Sequential()\n",
    "model3.add(Conv2D(10, (3, 3), input_shape=(28, 28, 1), activation='relu'))\n",
    "model3.add(MaxPooling2D(pool_size=(2, 2)))\n",
    "model3.add(Conv2D(5, (3, 3), activation='relu'))\n",
    "model3.add(MaxPooling2D(pool_size=(2, 2)))\n",
    "model3.add(Dropout(0.2))\n",
    "model3.add(Flatten())\n",
    "model3.add(Dense(64, activation='relu'))\n",
    "model3.add(Dense(6, activation='softmax'))"
   ]
  },
  {
   "cell_type": "code",
   "execution_count": 12,
   "id": "15c1c6a3",
   "metadata": {},
   "outputs": [],
   "source": [
    "# Compile model\n",
    "model3.compile(loss='categorical_crossentropy', optimizer='adam', metrics=['accuracy'])"
   ]
  },
  {
   "cell_type": "code",
   "execution_count": 13,
   "id": "82786c39",
   "metadata": {},
   "outputs": [
    {
     "name": "stdout",
     "output_type": "stream",
     "text": [
      "WARNING:tensorflow:sample_weight modes were coerced from\n",
      "  ...\n",
      "    to  \n",
      "  ['...']\n",
      "WARNING:tensorflow:sample_weight modes were coerced from\n",
      "  ...\n",
      "    to  \n",
      "  ['...']\n",
      "Train for 21 steps, validate for 9 steps\n",
      "Epoch 1/60\n",
      "21/21 [==============================] - 1s 34ms/step - loss: 1.8352 - accuracy: 0.1429 - val_loss: 1.7793 - val_accuracy: 0.2000\n",
      "Epoch 2/60\n",
      "21/21 [==============================] - 0s 12ms/step - loss: 1.7808 - accuracy: 0.1857 - val_loss: 1.7643 - val_accuracy: 0.3222\n",
      "Epoch 3/60\n",
      "21/21 [==============================] - 0s 15ms/step - loss: 1.7712 - accuracy: 0.2524 - val_loss: 1.7331 - val_accuracy: 0.4778\n",
      "Epoch 4/60\n",
      "21/21 [==============================] - 0s 13ms/step - loss: 1.7514 - accuracy: 0.2905 - val_loss: 1.7097 - val_accuracy: 0.4778\n",
      "Epoch 5/60\n",
      "21/21 [==============================] - 0s 17ms/step - loss: 1.6872 - accuracy: 0.3714 - val_loss: 1.6429 - val_accuracy: 0.4000\n",
      "Epoch 6/60\n",
      "21/21 [==============================] - 0s 17ms/step - loss: 1.6116 - accuracy: 0.4952 - val_loss: 1.5049 - val_accuracy: 0.7000\n",
      "Epoch 7/60\n",
      "21/21 [==============================] - 0s 12ms/step - loss: 1.4898 - accuracy: 0.5952 - val_loss: 1.3341 - val_accuracy: 0.7778\n",
      "Epoch 8/60\n",
      "21/21 [==============================] - 0s 13ms/step - loss: 1.2982 - accuracy: 0.7190 - val_loss: 1.0725 - val_accuracy: 0.8556\n",
      "Epoch 9/60\n",
      "21/21 [==============================] - 0s 13ms/step - loss: 1.0394 - accuracy: 0.7476 - val_loss: 0.7575 - val_accuracy: 0.9556\n",
      "Epoch 10/60\n",
      "21/21 [==============================] - 0s 13ms/step - loss: 0.7717 - accuracy: 0.8190 - val_loss: 0.4929 - val_accuracy: 0.9333\n",
      "Epoch 11/60\n",
      "21/21 [==============================] - 0s 12ms/step - loss: 0.6255 - accuracy: 0.8381 - val_loss: 0.3600 - val_accuracy: 0.9222\n",
      "Epoch 12/60\n",
      "21/21 [==============================] - 0s 13ms/step - loss: 0.5222 - accuracy: 0.8476 - val_loss: 0.2898 - val_accuracy: 0.9222\n",
      "Epoch 13/60\n",
      "21/21 [==============================] - 0s 12ms/step - loss: 0.3763 - accuracy: 0.8762 - val_loss: 0.2315 - val_accuracy: 0.9222\n",
      "Epoch 14/60\n",
      "21/21 [==============================] - 0s 12ms/step - loss: 0.3756 - accuracy: 0.8952 - val_loss: 0.1939 - val_accuracy: 0.9556\n",
      "Epoch 15/60\n",
      "21/21 [==============================] - 0s 16ms/step - loss: 0.3717 - accuracy: 0.8905 - val_loss: 0.1899 - val_accuracy: 0.9444\n",
      "Epoch 16/60\n",
      "21/21 [==============================] - 0s 15ms/step - loss: 0.3261 - accuracy: 0.9238 - val_loss: 0.1961 - val_accuracy: 0.9556\n",
      "Epoch 17/60\n",
      "21/21 [==============================] - 0s 14ms/step - loss: 0.2851 - accuracy: 0.9048 - val_loss: 0.1497 - val_accuracy: 0.9333\n",
      "Epoch 18/60\n",
      "21/21 [==============================] - 0s 16ms/step - loss: 0.3485 - accuracy: 0.8810 - val_loss: 0.1507 - val_accuracy: 0.9667\n",
      "Epoch 19/60\n",
      "21/21 [==============================] - 0s 12ms/step - loss: 0.2538 - accuracy: 0.9143 - val_loss: 0.1713 - val_accuracy: 0.9444\n",
      "Epoch 20/60\n",
      "21/21 [==============================] - 0s 12ms/step - loss: 0.2635 - accuracy: 0.9190 - val_loss: 0.1808 - val_accuracy: 0.9444\n",
      "Epoch 21/60\n",
      "21/21 [==============================] - 0s 12ms/step - loss: 0.3015 - accuracy: 0.9000 - val_loss: 0.1258 - val_accuracy: 0.9667\n",
      "Epoch 22/60\n",
      "21/21 [==============================] - 0s 12ms/step - loss: 0.2601 - accuracy: 0.9286 - val_loss: 0.1704 - val_accuracy: 0.9444\n",
      "Epoch 23/60\n",
      "21/21 [==============================] - 0s 12ms/step - loss: 0.2389 - accuracy: 0.9190 - val_loss: 0.1299 - val_accuracy: 0.9667\n",
      "Epoch 24/60\n",
      "21/21 [==============================] - 0s 15ms/step - loss: 0.2722 - accuracy: 0.9048 - val_loss: 0.1320 - val_accuracy: 0.9556\n",
      "Epoch 25/60\n",
      "21/21 [==============================] - 0s 18ms/step - loss: 0.2549 - accuracy: 0.9190 - val_loss: 0.1962 - val_accuracy: 0.9444\n",
      "Epoch 26/60\n",
      "21/21 [==============================] - 0s 19ms/step - loss: 0.2445 - accuracy: 0.9048 - val_loss: 0.1147 - val_accuracy: 0.9667\n",
      "Epoch 27/60\n",
      "21/21 [==============================] - 0s 17ms/step - loss: 0.2149 - accuracy: 0.9048 - val_loss: 0.1430 - val_accuracy: 0.9333\n",
      "Epoch 28/60\n",
      "21/21 [==============================] - 0s 12ms/step - loss: 0.2366 - accuracy: 0.9333 - val_loss: 0.1773 - val_accuracy: 0.9444\n",
      "Epoch 29/60\n",
      "21/21 [==============================] - 0s 12ms/step - loss: 0.2170 - accuracy: 0.9286 - val_loss: 0.1888 - val_accuracy: 0.9333\n",
      "Epoch 30/60\n",
      "21/21 [==============================] - 0s 16ms/step - loss: 0.2089 - accuracy: 0.9381 - val_loss: 0.1588 - val_accuracy: 0.9333\n",
      "Epoch 31/60\n",
      "21/21 [==============================] - 0s 12ms/step - loss: 0.1589 - accuracy: 0.9571 - val_loss: 0.1108 - val_accuracy: 0.9556\n",
      "Epoch 32/60\n",
      "21/21 [==============================] - 0s 12ms/step - loss: 0.1904 - accuracy: 0.9524 - val_loss: 0.1112 - val_accuracy: 0.9778\n",
      "Epoch 33/60\n",
      "21/21 [==============================] - 0s 11ms/step - loss: 0.1722 - accuracy: 0.9524 - val_loss: 0.1332 - val_accuracy: 0.9556\n",
      "Epoch 34/60\n",
      "21/21 [==============================] - 0s 14ms/step - loss: 0.1581 - accuracy: 0.9524 - val_loss: 0.1341 - val_accuracy: 0.9444\n",
      "Epoch 35/60\n",
      "21/21 [==============================] - 0s 14ms/step - loss: 0.1350 - accuracy: 0.9524 - val_loss: 0.1021 - val_accuracy: 0.9556\n",
      "Epoch 36/60\n",
      "21/21 [==============================] - 0s 14ms/step - loss: 0.1530 - accuracy: 0.9524 - val_loss: 0.1163 - val_accuracy: 0.9667\n",
      "Epoch 37/60\n",
      "21/21 [==============================] - 0s 12ms/step - loss: 0.1352 - accuracy: 0.9476 - val_loss: 0.1361 - val_accuracy: 0.9444\n",
      "Epoch 38/60\n",
      "21/21 [==============================] - 0s 12ms/step - loss: 0.1249 - accuracy: 0.9714 - val_loss: 0.1091 - val_accuracy: 0.9667\n",
      "Epoch 39/60\n",
      "21/21 [==============================] - 0s 12ms/step - loss: 0.1198 - accuracy: 0.9714 - val_loss: 0.1458 - val_accuracy: 0.9444\n",
      "Epoch 40/60\n",
      "21/21 [==============================] - 0s 12ms/step - loss: 0.1747 - accuracy: 0.9333 - val_loss: 0.0998 - val_accuracy: 0.9667\n",
      "Epoch 41/60\n",
      "21/21 [==============================] - 0s 12ms/step - loss: 0.1028 - accuracy: 0.9714 - val_loss: 0.1269 - val_accuracy: 0.9667\n",
      "Epoch 42/60\n",
      "21/21 [==============================] - 0s 12ms/step - loss: 0.0974 - accuracy: 0.9714 - val_loss: 0.1048 - val_accuracy: 0.9556\n",
      "Epoch 43/60\n",
      "21/21 [==============================] - 0s 13ms/step - loss: 0.1292 - accuracy: 0.9714 - val_loss: 0.0812 - val_accuracy: 0.9667\n",
      "Epoch 44/60\n",
      "21/21 [==============================] - 0s 14ms/step - loss: 0.1349 - accuracy: 0.9571 - val_loss: 0.0878 - val_accuracy: 0.9556\n",
      "Epoch 45/60\n",
      "21/21 [==============================] - 0s 13ms/step - loss: 0.0564 - accuracy: 0.9857 - val_loss: 0.0881 - val_accuracy: 0.9778\n",
      "Epoch 46/60\n",
      "21/21 [==============================] - 0s 15ms/step - loss: 0.1218 - accuracy: 0.9571 - val_loss: 0.0896 - val_accuracy: 0.9889\n",
      "Epoch 47/60\n",
      "21/21 [==============================] - 0s 14ms/step - loss: 0.1227 - accuracy: 0.9667 - val_loss: 0.1308 - val_accuracy: 0.9778\n",
      "Epoch 48/60\n",
      "21/21 [==============================] - 0s 12ms/step - loss: 0.0730 - accuracy: 0.9905 - val_loss: 0.0718 - val_accuracy: 0.9778\n",
      "Epoch 49/60\n",
      "21/21 [==============================] - 0s 12ms/step - loss: 0.0754 - accuracy: 0.9810 - val_loss: 0.0576 - val_accuracy: 0.9889\n",
      "Epoch 50/60\n",
      "21/21 [==============================] - 0s 13ms/step - loss: 0.0799 - accuracy: 0.9762 - val_loss: 0.0719 - val_accuracy: 0.9889\n",
      "Epoch 51/60\n",
      "21/21 [==============================] - 0s 12ms/step - loss: 0.0835 - accuracy: 0.9762 - val_loss: 0.0811 - val_accuracy: 0.9778\n",
      "Epoch 52/60\n",
      "21/21 [==============================] - 0s 13ms/step - loss: 0.0583 - accuracy: 0.9952 - val_loss: 0.0981 - val_accuracy: 0.9444\n",
      "Epoch 53/60\n",
      "21/21 [==============================] - 0s 12ms/step - loss: 0.0726 - accuracy: 0.9857 - val_loss: 0.0679 - val_accuracy: 0.9778\n",
      "Epoch 54/60\n",
      "21/21 [==============================] - 0s 17ms/step - loss: 0.0726 - accuracy: 0.9857 - val_loss: 0.0796 - val_accuracy: 0.9667\n",
      "Epoch 55/60\n",
      "21/21 [==============================] - 0s 14ms/step - loss: 0.0668 - accuracy: 0.9667 - val_loss: 0.0660 - val_accuracy: 0.9778\n",
      "Epoch 56/60\n",
      "21/21 [==============================] - 0s 12ms/step - loss: 0.0675 - accuracy: 0.9810 - val_loss: 0.0749 - val_accuracy: 0.9778\n",
      "Epoch 57/60\n"
     ]
    },
    {
     "name": "stdout",
     "output_type": "stream",
     "text": [
      "21/21 [==============================] - 0s 12ms/step - loss: 0.0472 - accuracy: 0.9810 - val_loss: 0.0785 - val_accuracy: 0.9667\n",
      "Epoch 58/60\n",
      "21/21 [==============================] - 0s 12ms/step - loss: 0.0855 - accuracy: 0.9667 - val_loss: 0.0620 - val_accuracy: 0.9778\n",
      "Epoch 59/60\n",
      "21/21 [==============================] - 0s 12ms/step - loss: 0.0846 - accuracy: 0.9714 - val_loss: 0.0662 - val_accuracy: 0.9667\n",
      "Epoch 60/60\n",
      "21/21 [==============================] - 0s 12ms/step - loss: 0.0847 - accuracy: 0.9762 - val_loss: 0.0681 - val_accuracy: 0.9778\n"
     ]
    }
   ],
   "source": [
    "M3=model3.fit(train_set,validation_data=valid_set, epochs=60,shuffle=True,verbose=1)"
   ]
  },
  {
   "cell_type": "code",
   "execution_count": 14,
   "id": "b3dab20b",
   "metadata": {},
   "outputs": [
    {
     "ename": "NameError",
     "evalue": "name 'plot_performance' is not defined",
     "output_type": "error",
     "traceback": [
      "\u001b[1;31m---------------------------------------------------------------------------\u001b[0m",
      "\u001b[1;31mNameError\u001b[0m                                 Traceback (most recent call last)",
      "\u001b[1;32m<ipython-input-14-7022d2cb6041>\u001b[0m in \u001b[0;36m<module>\u001b[1;34m\u001b[0m\n\u001b[1;32m----> 1\u001b[1;33m \u001b[0mplot_performance\u001b[0m\u001b[1;33m(\u001b[0m\u001b[0mM3\u001b[0m\u001b[1;33m)\u001b[0m\u001b[1;33m\u001b[0m\u001b[1;33m\u001b[0m\u001b[0m\n\u001b[0m",
      "\u001b[1;31mNameError\u001b[0m: name 'plot_performance' is not defined"
     ]
    }
   ],
   "source": [
    "plot_performance(M3)"
   ]
  },
  {
   "cell_type": "markdown",
   "id": "27f14998",
   "metadata": {},
   "source": [
    "#### Interpretation :\n",
    "\n",
    "This is our best Model handles overfitting and fetches a reasonably low loss, when comparing train and Validation."
   ]
  },
  {
   "cell_type": "markdown",
   "id": "7c77146b",
   "metadata": {},
   "source": [
    "<a id=\"savewtg\"></a>\n",
    "# 4. Saving the Weights"
   ]
  },
  {
   "cell_type": "code",
   "execution_count": 18,
   "id": "92f3fdf1",
   "metadata": {},
   "outputs": [],
   "source": [
    "model_json = model3.to_json()\n",
    "with open(\"model_final.json\", \"w\") as json_file:\n",
    "    json_file.write(model_json)\n",
    "# serialize weights to HDF5\n",
    "model3.save_weights(\"model3_final.h5\")"
   ]
  },
  {
   "cell_type": "markdown",
   "id": "46a8f0e9",
   "metadata": {},
   "source": [
    "<a id=\"soleq\"></a>\n",
    "# 5. Solving HandWritten Equations"
   ]
  },
  {
   "cell_type": "code",
   "execution_count": 19,
   "id": "77a716c6",
   "metadata": {},
   "outputs": [],
   "source": [
    "def prediction(img):\n",
    "    #plt.imshow(img, cmap = 'gray')\n",
    "    img = cv2.resize(img,(28, 28))\n",
    "    #norm_image = cv2.normalize(img, None, alpha = 0, beta = 1, norm_type = cv2.NORM_MINMAX, dtype = cv2.CV_32F)\n",
    "    norm_image=img/255.0\n",
    "    norm_image = norm_image.reshape((norm_image.shape[0], norm_image.shape[1], 1))\n",
    "    case = np.asarray([norm_image])\n",
    "    pred = model3.predict_classes([case])\n",
    "    \n",
    "    return ([i for i in train_set.class_indices if train_set.class_indices[i]==(pred[0])][0],pred)"
   ]
  },
  {
   "cell_type": "markdown",
   "id": "00d9c252",
   "metadata": {},
   "source": [
    "<a id=\"label\"></a>\n",
    "# 6. Creating Label Maps for the Classes"
   ]
  },
  {
   "cell_type": "code",
   "execution_count": 20,
   "id": "18a5c897",
   "metadata": {},
   "outputs": [
    {
     "data": {
      "text/plain": [
       "{'+': 0, '1': 1, '2': 2, '3': 3, '4': 4, 'x': 5}"
      ]
     },
     "execution_count": 20,
     "metadata": {},
     "output_type": "execute_result"
    }
   ],
   "source": [
    "train_set.class_indices"
   ]
  },
  {
   "cell_type": "code",
   "execution_count": 21,
   "id": "80e6fee6",
   "metadata": {},
   "outputs": [
    {
     "data": {
      "text/plain": [
       "{'+': 0, '1': 1, '2': 2, '3': 3, '4': 4, 'x': 5}"
      ]
     },
     "execution_count": 21,
     "metadata": {},
     "output_type": "execute_result"
    }
   ],
   "source": [
    "label_map = (train_set.class_indices)\n",
    "label_map"
   ]
  },
  {
   "cell_type": "code",
   "execution_count": 22,
   "id": "44ead262",
   "metadata": {},
   "outputs": [],
   "source": [
    "def image_path(path):\n",
    "    image=cv2.imread(path)\n",
    "    gray = cv2.cvtColor(image, cv2.COLOR_BGR2GRAY)\n",
    "    blurred = cv2.GaussianBlur(image, (5, 5), 0)\n",
    "# perform edge detection, find contours in the edge map, and sort the\n",
    "# resulting contours from left-to-right\n",
    "    edged = cv2.Canny(blurred, 30, 150)\n",
    "    cnts = cv2.findContours(edged.copy(), cv2.RETR_EXTERNAL,cv2.CHAIN_APPROX_SIMPLE)\n",
    "    cnts = imutils.grab_contours(cnts)\n",
    "    cnts = sort_contours(cnts, method=\"left-to-right\")[0]\n",
    "    chars=[]\n",
    "    for c in cnts:\n",
    "    # compute the bounding box of the contour\n",
    "        (x, y, w, h) = cv2.boundingRect(c)\n",
    "    # filter out bounding boxes, ensuring they are neither too small\n",
    "    # nor too large\n",
    "        if w*h>1200:\n",
    "        # extract the character and threshold it to make the character\n",
    "        # appear as *white* (foreground) on a *black* background, then\n",
    "        # grab the width and height of the thresholded image\n",
    "            roi = gray[y:y + h, x:x + w]\n",
    "            chars.append(prediction(roi))\n",
    "            cv2.rectangle(image, (x, y), (x + w, y + h), (0, 255, 0), 2)\n",
    "    return chars,image"
   ]
  },
  {
   "cell_type": "markdown",
   "id": "0af8797d",
   "metadata": {},
   "source": [
    "<a id=\"modeleval\"></a>\n",
    "# 7 Model Evaluation"
   ]
  },
  {
   "cell_type": "markdown",
   "id": "173db72c",
   "metadata": {},
   "source": [
    "<a id=\"test1\"></a>\n",
    "### 7.1 TEST CASE 1"
   ]
  },
  {
   "cell_type": "code",
   "execution_count": 23,
   "id": "e2bc2a46",
   "metadata": {},
   "outputs": [],
   "source": [
    "path='C:\\\\Users\\\\suvar\\\\Downloads\\\\DL_Team6 - Mod\\\\test1.jpeg'\n",
    "chars,image=image_path(path)"
   ]
  },
  {
   "cell_type": "code",
   "execution_count": 24,
   "id": "339a72e0",
   "metadata": {},
   "outputs": [
    {
     "data": {
      "text/plain": [
       "[('2', array([2], dtype=int64)),\n",
       " ('3', array([3], dtype=int64)),\n",
       " ('+', array([0], dtype=int64)),\n",
       " ('2', array([2], dtype=int64))]"
      ]
     },
     "execution_count": 24,
     "metadata": {},
     "output_type": "execute_result"
    }
   ],
   "source": [
    "chars"
   ]
  },
  {
   "cell_type": "code",
   "execution_count": 25,
   "id": "c596759d",
   "metadata": {},
   "outputs": [
    {
     "data": {
      "text/plain": [
       "<matplotlib.image.AxesImage at 0x16881bdbd30>"
      ]
     },
     "execution_count": 25,
     "metadata": {},
     "output_type": "execute_result"
    },
    {
     "data": {
      "image/png": "[encoded data removed]",
      "text/plain": [
       "<Figure size 360x360 with 1 Axes>"
      ]
     },
     "metadata": {
      "needs_background": "light"
     },
     "output_type": "display_data"
    }
   ],
   "source": [
    "plt.figure(figsize=(5,5))\n",
    "plt.imshow(image)"
   ]
  },
  {
   "cell_type": "code",
   "execution_count": 26,
   "id": "95ca32e4",
   "metadata": {},
   "outputs": [],
   "source": [
    "def NumericalSolver(characters):\n",
    "        c=[]\n",
    "        \n",
    "        for i in characters:\n",
    "            if i[0][:]=='x':\n",
    "                pos = i[0][:].replace(\"x\",\"*\")\n",
    "                c.append(pos)\n",
    "            else:\n",
    "                c.append(i[0][:])\n",
    "\n",
    "        EQUATION=' '\n",
    "        for i in c:\n",
    "            EQUATION=EQUATION + (i[0][0])\n",
    "        print('The Handwritten equation is :',EQUATION)\n",
    "        print('The result is : ',eval(EQUATION))"
   ]
  },
  {
   "cell_type": "code",
   "execution_count": 27,
   "id": "d2c2653d",
   "metadata": {},
   "outputs": [
    {
     "name": "stdout",
     "output_type": "stream",
     "text": [
      "The Handwritten equation is :  23+2\n",
      "The result is :  25\n"
     ]
    }
   ],
   "source": [
    "NumericalSolver(chars)"
   ]
  },
  {
   "cell_type": "markdown",
   "id": "d93cd712",
   "metadata": {},
   "source": [
    "<a id=\"test2\"></a>\n",
    "### 7.2 TEST CASE 2"
   ]
  },
  {
   "cell_type": "code",
   "execution_count": 28,
   "id": "81f6c5ea",
   "metadata": {},
   "outputs": [],
   "source": [
    "path='C:\\\\Users\\\\suvar\\\\Downloads\\\\DL_Team6 - Mod\\\\test2.jpeg'\n",
    "chars,image=image_path(path)"
   ]
  },
  {
   "cell_type": "code",
   "execution_count": 29,
   "id": "8416fe73",
   "metadata": {},
   "outputs": [
    {
     "data": {
      "text/plain": [
       "[('1', array([1], dtype=int64)),\n",
       " ('2', array([2], dtype=int64)),\n",
       " ('x', array([5], dtype=int64)),\n",
       " ('3', array([3], dtype=int64))]"
      ]
     },
     "execution_count": 29,
     "metadata": {},
     "output_type": "execute_result"
    }
   ],
   "source": [
    "chars"
   ]
  },
  {
   "cell_type": "code",
   "execution_count": 30,
   "id": "02f68cee",
   "metadata": {},
   "outputs": [
    {
     "data": {
      "text/plain": [
       "<matplotlib.image.AxesImage at 0x16881f26b70>"
      ]
     },
     "execution_count": 30,
     "metadata": {},
     "output_type": "execute_result"
    },
    {
     "data": {
      "image/png": "[encoded data removed]",
      "text/plain": [
       "<Figure size 360x360 with 1 Axes>"
      ]
     },
     "metadata": {
      "needs_background": "light"
     },
     "output_type": "display_data"
    }
   ],
   "source": [
    "plt.figure(figsize=(5,5))\n",
    "plt.imshow(image)"
   ]
  },
  {
   "cell_type": "code",
   "execution_count": 31,
   "id": "14675720",
   "metadata": {},
   "outputs": [
    {
     "name": "stdout",
     "output_type": "stream",
     "text": [
      "The Handwritten equation is :  12*3\n",
      "The result is :  36\n"
     ]
    }
   ],
   "source": [
    "NumericalSolver(chars)"
   ]
  },
  {
   "cell_type": "markdown",
   "id": "491cb99b",
   "metadata": {},
   "source": [
    "<a id=\"test3\"></a>\n",
    "### 7.3 TEST CASE 3"
   ]
  },
  {
   "cell_type": "code",
   "execution_count": 52,
   "id": "6e36f689",
   "metadata": {},
   "outputs": [],
   "source": [
    "path='C:\\\\Users\\\\suvar\\\\Downloads\\\\DL_Team6 - Mod\\\\test3.jpeg'\n",
    "chars,image=image_path(path)"
   ]
  },
  {
   "cell_type": "code",
   "execution_count": 53,
   "id": "9c4cef75",
   "metadata": {},
   "outputs": [
    {
     "data": {
      "text/plain": [
       "[('1', array([1], dtype=int64)),\n",
       " ('3', array([3], dtype=int64)),\n",
       " ('x', array([5], dtype=int64)),\n",
       " ('4', array([4], dtype=int64))]"
      ]
     },
     "execution_count": 53,
     "metadata": {},
     "output_type": "execute_result"
    }
   ],
   "source": [
    "chars"
   ]
  },
  {
   "cell_type": "code",
   "execution_count": 54,
   "id": "ef8cdcbf",
   "metadata": {},
   "outputs": [
    {
     "data": {
      "text/plain": [
       "<matplotlib.image.AxesImage at 0x168823b5c50>"
      ]
     },
     "execution_count": 54,
     "metadata": {},
     "output_type": "execute_result"
    },
    {
     "data": {
      "image/png": "[encoded data removed]",
      "text/plain": [
       "<Figure size 360x360 with 1 Axes>"
      ]
     },
     "metadata": {
      "needs_background": "light"
     },
     "output_type": "display_data"
    }
   ],
   "source": [
    "plt.figure(figsize=(5,5))\n",
    "plt.imshow(image)"
   ]
  },
  {
   "cell_type": "code",
   "execution_count": 55,
   "id": "caaa26ea",
   "metadata": {},
   "outputs": [
    {
     "name": "stdout",
     "output_type": "stream",
     "text": [
      "The Handwritten equation is :  13*4\n",
      "The result is :  52\n"
     ]
    }
   ],
   "source": [
    "NumericalSolver(chars)"
   ]
  },
  {
   "cell_type": "markdown",
   "id": "b9655303",
   "metadata": {},
   "source": [
    "### 7.4 TEST CASE 4"
   ]
  },
  {
   "cell_type": "code",
   "execution_count": 60,
   "id": "8cc36039",
   "metadata": {},
   "outputs": [],
   "source": [
    "path='C:\\\\Users\\\\suvar\\\\Downloads\\\\DL_Team6 - Mod\\\\test4.jpeg'\n",
    "chars,image=image_path(path)"
   ]
  },
  {
   "cell_type": "code",
   "execution_count": 61,
   "id": "ac90e4c1",
   "metadata": {},
   "outputs": [
    {
     "data": {
      "text/plain": [
       "[('1', array([1], dtype=int64)),\n",
       " ('2', array([2], dtype=int64)),\n",
       " ('+', array([0], dtype=int64)),\n",
       " ('3', array([3], dtype=int64)),\n",
       " ('x', array([5], dtype=int64)),\n",
       " ('3', array([3], dtype=int64))]"
      ]
     },
     "execution_count": 61,
     "metadata": {},
     "output_type": "execute_result"
    }
   ],
   "source": [
    "chars"
   ]
  },
  {
   "cell_type": "code",
   "execution_count": 62,
   "id": "a998ceef",
   "metadata": {},
   "outputs": [
    {
     "data": {
      "text/plain": [
       "<matplotlib.image.AxesImage at 0x16882b13208>"
      ]
     },
     "execution_count": 62,
     "metadata": {},
     "output_type": "execute_result"
    },
    {
     "data": {
      "image/png": "[encoded data removed]",
      "text/plain": [
       "<Figure size 360x360 with 1 Axes>"
      ]
     },
     "metadata": {
      "needs_background": "light"
     },
     "output_type": "display_data"
    }
   ],
   "source": [
    "plt.figure(figsize=(5,5))\n",
    "plt.imshow(image)"
   ]
  },
  {
   "cell_type": "code",
   "execution_count": 63,
   "id": "691ebb60",
   "metadata": {},
   "outputs": [
    {
     "name": "stdout",
     "output_type": "stream",
     "text": [
      "The Handwritten equation is :  12+3*3\n",
      "The result is :  21\n"
     ]
    }
   ],
   "source": [
    "NumericalSolver(chars)"
   ]
  },
  {
   "cell_type": "markdown",
   "id": "ef92d08f",
   "metadata": {},
   "source": [
    "### 7.5 TEST CASE 5"
   ]
  },
  {
   "cell_type": "code",
   "execution_count": 64,
   "id": "f7f205fd",
   "metadata": {},
   "outputs": [],
   "source": [
    "path='C:\\\\Users\\\\suvar\\\\Downloads\\\\DL_Team6 - Mod\\\\test5.jpeg'\n",
    "chars,image=image_path(path)"
   ]
  },
  {
   "cell_type": "code",
   "execution_count": 65,
   "id": "6bc65fec",
   "metadata": {},
   "outputs": [
    {
     "data": {
      "text/plain": [
       "[('1', array([1], dtype=int64)),\n",
       " ('3', array([3], dtype=int64)),\n",
       " ('x', array([5], dtype=int64)),\n",
       " ('2', array([2], dtype=int64)),\n",
       " ('4', array([4], dtype=int64))]"
      ]
     },
     "execution_count": 65,
     "metadata": {},
     "output_type": "execute_result"
    }
   ],
   "source": [
    "chars"
   ]
  },
  {
   "cell_type": "code",
   "execution_count": 66,
   "id": "d5a1f659",
   "metadata": {},
   "outputs": [
    {
     "data": {
      "text/plain": [
       "<matplotlib.image.AxesImage at 0x16882d0c208>"
      ]
     },
     "execution_count": 66,
     "metadata": {},
     "output_type": "execute_result"
    },
    {
     "data": {
      "image/png": "[encoded data removed]",
      "text/plain": [
       "<Figure size 360x360 with 1 Axes>"
      ]
     },
     "metadata": {
      "needs_background": "light"
     },
     "output_type": "display_data"
    }
   ],
   "source": [
    "plt.figure(figsize=(5,5))\n",
    "plt.imshow(image)"
   ]
  },
  {
   "cell_type": "code",
   "execution_count": 67,
   "id": "4607375f",
   "metadata": {},
   "outputs": [
    {
     "name": "stdout",
     "output_type": "stream",
     "text": [
      "The Handwritten equation is :  13*24\n",
      "The result is :  312\n"
     ]
    }
   ],
   "source": [
    "NumericalSolver(chars)"
   ]
  },
  {
   "cell_type": "markdown",
   "id": "665d6cc1",
   "metadata": {},
   "source": [
    "### 7.6 TEST CASE 6"
   ]
  },
  {
   "cell_type": "code",
   "execution_count": 84,
   "id": "97e82b4c",
   "metadata": {},
   "outputs": [],
   "source": [
    "path='C:\\\\Users\\\\suvar\\\\Downloads\\\\DL_Team6 - Mod\\\\test6.jpeg'\n",
    "chars,image=image_path(path)"
   ]
  },
  {
   "cell_type": "code",
   "execution_count": 85,
   "id": "6c108efa",
   "metadata": {},
   "outputs": [
    {
     "data": {
      "text/plain": [
       "[('1', array([1], dtype=int64)),\n",
       " ('2', array([2], dtype=int64)),\n",
       " ('+', array([0], dtype=int64)),\n",
       " ('3', array([3], dtype=int64)),\n",
       " ('3', array([3], dtype=int64))]"
      ]
     },
     "execution_count": 85,
     "metadata": {},
     "output_type": "execute_result"
    }
   ],
   "source": [
    "chars"
   ]
  },
  {
   "cell_type": "code",
   "execution_count": 86,
   "id": "55c44723",
   "metadata": {},
   "outputs": [
    {
     "data": {
      "text/plain": [
       "<matplotlib.image.AxesImage at 0x16883499358>"
      ]
     },
     "execution_count": 86,
     "metadata": {},
     "output_type": "execute_result"
    },
    {
     "data": {
      "image/png": "[encoded data removed]",
      "text/plain": [
       "<Figure size 360x360 with 1 Axes>"
      ]
     },
     "metadata": {
      "needs_background": "light"
     },
     "output_type": "display_data"
    }
   ],
   "source": [
    "plt.figure(figsize=(5,5))\n",
    "plt.imshow(image)"
   ]
  },
  {
   "cell_type": "code",
   "execution_count": 87,
   "id": "95b5bee7",
   "metadata": {},
   "outputs": [
    {
     "name": "stdout",
     "output_type": "stream",
     "text": [
      "The Handwritten equation is :  12+33\n",
      "The result is :  45\n"
     ]
    }
   ],
   "source": [
    "NumericalSolver(chars)"
   ]
  },
  {
   "cell_type": "markdown",
   "id": "4cca72b1",
   "metadata": {},
   "source": [
    "<a id=\"conclusion\"></a>\n",
    "# 8. CONCLUSION"
   ]
  },
  {
   "cell_type": "markdown",
   "id": "321d0855",
   "metadata": {},
   "source": [
    "The final model was able to correctly identify and evaluate most of the samples, but on some occasions it failed to identify one or more characters due to the lack of training samples."
   ]
  }
 ],
 "metadata": {
  "kernelspec": {
   "display_name": "Python 3",
   "language": "python",
   "name": "python3"
  },
  "language_info": {
   "codemirror_mode": {
    "name": "ipython",
    "version": 3
   },
   "file_extension": ".py",
   "mimetype": "text/x-python",
   "name": "python",
   "nbconvert_exporter": "python",
   "pygments_lexer": "ipython3",
   "version": "3.6.13"
  }
 },
 "nbformat": 4,
 "nbformat_minor": 5
}
